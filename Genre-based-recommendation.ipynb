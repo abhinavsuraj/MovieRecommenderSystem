{
 "cells": [
  {
   "cell_type": "code",
   "execution_count": 71,
   "metadata": {
    "collapsed": true
   },
   "outputs": [],
   "source": [
    "import pandas as pd\n",
    "import numpy as np\n",
    "import matplotlib.pyplot as plt\n",
    "import seaborn as sns\n",
    "%matplotlib inline\n",
    "from sklearn.feature_extraction.text import CountVectorizer"
   ]
  },
  {
   "cell_type": "code",
   "execution_count": 72,
   "metadata": {
    "collapsed": true
   },
   "outputs": [],
   "source": [
    "movies = pd.read_csv('movies.csv')"
   ]
  },
  {
   "cell_type": "code",
   "execution_count": 47,
   "metadata": {},
   "outputs": [
    {
     "name": "stdout",
     "output_type": "stream",
     "text": [
      "<class 'pandas.core.frame.DataFrame'>\n",
      "RangeIndex: 9125 entries, 0 to 9124\n",
      "Data columns (total 3 columns):\n",
      "movieId    9125 non-null int64\n",
      "title      9125 non-null object\n",
      "genres     9125 non-null object\n",
      "dtypes: int64(1), object(2)\n",
      "memory usage: 213.9+ KB\n"
     ]
    }
   ],
   "source": [
    "movies.info()"
   ]
  },
  {
   "cell_type": "code",
   "execution_count": 73,
   "metadata": {
    "collapsed": true
   },
   "outputs": [],
   "source": [
    "ratings = pd.read_csv('ratings.csv')"
   ]
  },
  {
   "cell_type": "code",
   "execution_count": 74,
   "metadata": {
    "collapsed": true
   },
   "outputs": [],
   "source": [
    "ratings = ratings.drop(['timestamp'], axis=1)"
   ]
  },
  {
   "cell_type": "code",
   "execution_count": 75,
   "metadata": {
    "collapsed": true
   },
   "outputs": [],
   "source": [
    "ratings = ratings.drop(['userId'], axis=1)"
   ]
  },
  {
   "cell_type": "code",
   "execution_count": 51,
   "metadata": {},
   "outputs": [
    {
     "data": {
      "text/html": [
       "<div>\n",
       "<style>\n",
       "    .dataframe thead tr:only-child th {\n",
       "        text-align: right;\n",
       "    }\n",
       "\n",
       "    .dataframe thead th {\n",
       "        text-align: left;\n",
       "    }\n",
       "\n",
       "    .dataframe tbody tr th {\n",
       "        vertical-align: top;\n",
       "    }\n",
       "</style>\n",
       "<table border=\"1\" class=\"dataframe\">\n",
       "  <thead>\n",
       "    <tr style=\"text-align: right;\">\n",
       "      <th></th>\n",
       "      <th>movieId</th>\n",
       "      <th>rating</th>\n",
       "    </tr>\n",
       "  </thead>\n",
       "  <tbody>\n",
       "    <tr>\n",
       "      <th>0</th>\n",
       "      <td>31</td>\n",
       "      <td>2.5</td>\n",
       "    </tr>\n",
       "    <tr>\n",
       "      <th>1</th>\n",
       "      <td>1029</td>\n",
       "      <td>3.0</td>\n",
       "    </tr>\n",
       "    <tr>\n",
       "      <th>2</th>\n",
       "      <td>1061</td>\n",
       "      <td>3.0</td>\n",
       "    </tr>\n",
       "    <tr>\n",
       "      <th>3</th>\n",
       "      <td>1129</td>\n",
       "      <td>2.0</td>\n",
       "    </tr>\n",
       "    <tr>\n",
       "      <th>4</th>\n",
       "      <td>1172</td>\n",
       "      <td>4.0</td>\n",
       "    </tr>\n",
       "  </tbody>\n",
       "</table>\n",
       "</div>"
      ],
      "text/plain": [
       "   movieId  rating\n",
       "0       31     2.5\n",
       "1     1029     3.0\n",
       "2     1061     3.0\n",
       "3     1129     2.0\n",
       "4     1172     4.0"
      ]
     },
     "execution_count": 51,
     "metadata": {},
     "output_type": "execute_result"
    }
   ],
   "source": [
    "ratings.head()"
   ]
  },
  {
   "cell_type": "code",
   "execution_count": 52,
   "metadata": {},
   "outputs": [
    {
     "name": "stdout",
     "output_type": "stream",
     "text": [
      "<class 'pandas.core.frame.DataFrame'>\n",
      "RangeIndex: 100004 entries, 0 to 100003\n",
      "Data columns (total 2 columns):\n",
      "movieId    100004 non-null int64\n",
      "rating     100004 non-null float64\n",
      "dtypes: float64(1), int64(1)\n",
      "memory usage: 1.5 MB\n"
     ]
    }
   ],
   "source": [
    "ratings.info()"
   ]
  },
  {
   "cell_type": "code",
   "execution_count": 76,
   "metadata": {},
   "outputs": [
    {
     "data": {
      "text/plain": [
       "movieId    2.000000\n",
       "rating     3.401869\n",
       "dtype: float64"
      ]
     },
     "execution_count": 76,
     "metadata": {},
     "output_type": "execute_result"
    }
   ],
   "source": [
    "ratings[ratings.movieId == 2].mean()"
   ]
  },
  {
   "cell_type": "code",
   "execution_count": 77,
   "metadata": {
    "collapsed": true
   },
   "outputs": [],
   "source": [
    "group_rate = ratings.groupby('movieId', as_index=False).agg({\"rating\": \"mean\"})"
   ]
  },
  {
   "cell_type": "code",
   "execution_count": 78,
   "metadata": {},
   "outputs": [
    {
     "data": {
      "text/html": [
       "<div>\n",
       "<style>\n",
       "    .dataframe thead tr:only-child th {\n",
       "        text-align: right;\n",
       "    }\n",
       "\n",
       "    .dataframe thead th {\n",
       "        text-align: left;\n",
       "    }\n",
       "\n",
       "    .dataframe tbody tr th {\n",
       "        vertical-align: top;\n",
       "    }\n",
       "</style>\n",
       "<table border=\"1\" class=\"dataframe\">\n",
       "  <thead>\n",
       "    <tr style=\"text-align: right;\">\n",
       "      <th></th>\n",
       "      <th>movieId</th>\n",
       "      <th>rating</th>\n",
       "    </tr>\n",
       "  </thead>\n",
       "  <tbody>\n",
       "    <tr>\n",
       "      <th>0</th>\n",
       "      <td>1</td>\n",
       "      <td>3.872470</td>\n",
       "    </tr>\n",
       "    <tr>\n",
       "      <th>1</th>\n",
       "      <td>2</td>\n",
       "      <td>3.401869</td>\n",
       "    </tr>\n",
       "    <tr>\n",
       "      <th>2</th>\n",
       "      <td>3</td>\n",
       "      <td>3.161017</td>\n",
       "    </tr>\n",
       "    <tr>\n",
       "      <th>3</th>\n",
       "      <td>4</td>\n",
       "      <td>2.384615</td>\n",
       "    </tr>\n",
       "    <tr>\n",
       "      <th>4</th>\n",
       "      <td>5</td>\n",
       "      <td>3.267857</td>\n",
       "    </tr>\n",
       "  </tbody>\n",
       "</table>\n",
       "</div>"
      ],
      "text/plain": [
       "   movieId    rating\n",
       "0        1  3.872470\n",
       "1        2  3.401869\n",
       "2        3  3.161017\n",
       "3        4  2.384615\n",
       "4        5  3.267857"
      ]
     },
     "execution_count": 78,
     "metadata": {},
     "output_type": "execute_result"
    }
   ],
   "source": [
    "group_rate.head()"
   ]
  },
  {
   "cell_type": "code",
   "execution_count": 56,
   "metadata": {},
   "outputs": [
    {
     "name": "stdout",
     "output_type": "stream",
     "text": [
      "<class 'pandas.core.frame.DataFrame'>\n",
      "Int64Index: 9066 entries, 0 to 9065\n",
      "Data columns (total 2 columns):\n",
      "movieId    9066 non-null int64\n",
      "rating     9066 non-null float64\n",
      "dtypes: float64(1), int64(1)\n",
      "memory usage: 212.5 KB\n"
     ]
    }
   ],
   "source": [
    "group_rate.info()"
   ]
  },
  {
   "cell_type": "code",
   "execution_count": 79,
   "metadata": {
    "collapsed": true
   },
   "outputs": [],
   "source": [
    "movies.genres=movies.genres.str.split(\"|\")\n",
    "movies.genres=movies.genres.str.join(' ')\n",
    "movies.genres=movies.genres.str.replace('Sci-Fi', 'SciFi')\n",
    "movies.genres=movies.genres.str.replace('Film-Noir', 'Noir')\n",
    "movies.genres=movies.genres.str.replace('(no genres listed)', '')\n",
    "cv = CountVectorizer ()\n",
    "X = cv.fit_transform(movies.genres).toarray()\n",
    "X = pd.DataFrame(X)\n",
    "res = {v: k for k, v in cv.vocabulary_.items()}\n",
    "X.columns = pd.Series(X.columns).map(res)\n",
    "movies = pd.concat([movies, X], axis = 1)"
   ]
  },
  {
   "cell_type": "code",
   "execution_count": 80,
   "metadata": {},
   "outputs": [
    {
     "name": "stdout",
     "output_type": "stream",
     "text": [
      "<class 'pandas.core.frame.DataFrame'>\n",
      "RangeIndex: 9125 entries, 0 to 9124\n",
      "Data columns (total 22 columns):\n",
      "movieId        9125 non-null int64\n",
      "title          9125 non-null object\n",
      "genres         9125 non-null object\n",
      "action         9125 non-null int64\n",
      "adventure      9125 non-null int64\n",
      "animation      9125 non-null int64\n",
      "children       9125 non-null int64\n",
      "comedy         9125 non-null int64\n",
      "crime          9125 non-null int64\n",
      "documentary    9125 non-null int64\n",
      "drama          9125 non-null int64\n",
      "fantasy        9125 non-null int64\n",
      "horror         9125 non-null int64\n",
      "imax           9125 non-null int64\n",
      "musical        9125 non-null int64\n",
      "mystery        9125 non-null int64\n",
      "noir           9125 non-null int64\n",
      "romance        9125 non-null int64\n",
      "scifi          9125 non-null int64\n",
      "thriller       9125 non-null int64\n",
      "war            9125 non-null int64\n",
      "western        9125 non-null int64\n",
      "dtypes: int64(20), object(2)\n",
      "memory usage: 1.5+ MB\n"
     ]
    }
   ],
   "source": [
    "movies.info()"
   ]
  },
  {
   "cell_type": "code",
   "execution_count": 81,
   "metadata": {
    "collapsed": true
   },
   "outputs": [],
   "source": [
    "merged_data=pd.merge(movies,group_rate)"
   ]
  },
  {
   "cell_type": "code",
   "execution_count": 82,
   "metadata": {},
   "outputs": [
    {
     "name": "stdout",
     "output_type": "stream",
     "text": [
      "<class 'pandas.core.frame.DataFrame'>\n",
      "Int64Index: 9066 entries, 0 to 9065\n",
      "Data columns (total 23 columns):\n",
      "movieId        9066 non-null int64\n",
      "title          9066 non-null object\n",
      "genres         9066 non-null object\n",
      "action         9066 non-null int64\n",
      "adventure      9066 non-null int64\n",
      "animation      9066 non-null int64\n",
      "children       9066 non-null int64\n",
      "comedy         9066 non-null int64\n",
      "crime          9066 non-null int64\n",
      "documentary    9066 non-null int64\n",
      "drama          9066 non-null int64\n",
      "fantasy        9066 non-null int64\n",
      "horror         9066 non-null int64\n",
      "imax           9066 non-null int64\n",
      "musical        9066 non-null int64\n",
      "mystery        9066 non-null int64\n",
      "noir           9066 non-null int64\n",
      "romance        9066 non-null int64\n",
      "scifi          9066 non-null int64\n",
      "thriller       9066 non-null int64\n",
      "war            9066 non-null int64\n",
      "western        9066 non-null int64\n",
      "rating         9066 non-null float64\n",
      "dtypes: float64(1), int64(20), object(2)\n",
      "memory usage: 1.7+ MB\n"
     ]
    }
   ],
   "source": [
    "merged_data.info()"
   ]
  },
  {
   "cell_type": "code",
   "execution_count": 83,
   "metadata": {},
   "outputs": [
    {
     "data": {
      "text/plain": [
       "0    8945\n",
       "1     121\n",
       "Name: noir, dtype: int64"
      ]
     },
     "execution_count": 83,
     "metadata": {},
     "output_type": "execute_result"
    }
   ],
   "source": [
    "merged_data.noir.value_counts()"
   ]
  },
  {
   "cell_type": "code",
   "execution_count": 84,
   "metadata": {
    "collapsed": true
   },
   "outputs": [],
   "source": [
    "merged_data['action'] = merged_data['action']*merged_data['rating']\n",
    "merged_data['adventure'] = merged_data['adventure']*merged_data['rating']\n",
    "merged_data['animation'] = merged_data['animation']*merged_data['rating']\n",
    "merged_data['children'] = merged_data['children']*merged_data['rating']\n",
    "merged_data['comedy'] = merged_data['comedy']*merged_data['rating']\n",
    "merged_data['crime'] = merged_data['crime']*merged_data['rating']\n",
    "merged_data['documentary'] = merged_data['documentary']*merged_data['rating']\n",
    "merged_data['drama'] = merged_data['drama']*merged_data['rating']\n",
    "merged_data['fantasy'] = merged_data['fantasy']*merged_data['rating']\n",
    "merged_data['horror'] = merged_data['horror']*merged_data['rating']\n",
    "merged_data['imax'] = merged_data['imax']*merged_data['rating']\n",
    "merged_data['musical'] = merged_data['musical']*merged_data['rating']\n",
    "merged_data['mystery'] = merged_data['mystery']*merged_data['rating']\n",
    "merged_data['noir'] = merged_data['noir']*merged_data['rating']\n",
    "merged_data['romance'] = merged_data['romance']*merged_data['rating']\n",
    "merged_data['scifi'] = merged_data['scifi']*merged_data['rating']\n",
    "merged_data['thriller'] = merged_data['thriller']*merged_data['rating']\n",
    "merged_data['war'] = merged_data['war']*merged_data['rating']\n",
    "merged_data['western'] = merged_data['western']*merged_data['rating']"
   ]
  },
  {
   "cell_type": "code",
   "execution_count": 85,
   "metadata": {},
   "outputs": [
    {
     "data": {
      "text/html": [
       "<div>\n",
       "<style>\n",
       "    .dataframe thead tr:only-child th {\n",
       "        text-align: right;\n",
       "    }\n",
       "\n",
       "    .dataframe thead th {\n",
       "        text-align: left;\n",
       "    }\n",
       "\n",
       "    .dataframe tbody tr th {\n",
       "        vertical-align: top;\n",
       "    }\n",
       "</style>\n",
       "<table border=\"1\" class=\"dataframe\">\n",
       "  <thead>\n",
       "    <tr style=\"text-align: right;\">\n",
       "      <th></th>\n",
       "      <th>movieId</th>\n",
       "      <th>title</th>\n",
       "      <th>genres</th>\n",
       "      <th>action</th>\n",
       "      <th>adventure</th>\n",
       "      <th>animation</th>\n",
       "      <th>children</th>\n",
       "      <th>comedy</th>\n",
       "      <th>crime</th>\n",
       "      <th>documentary</th>\n",
       "      <th>...</th>\n",
       "      <th>imax</th>\n",
       "      <th>musical</th>\n",
       "      <th>mystery</th>\n",
       "      <th>noir</th>\n",
       "      <th>romance</th>\n",
       "      <th>scifi</th>\n",
       "      <th>thriller</th>\n",
       "      <th>war</th>\n",
       "      <th>western</th>\n",
       "      <th>rating</th>\n",
       "    </tr>\n",
       "  </thead>\n",
       "  <tbody>\n",
       "    <tr>\n",
       "      <th>0</th>\n",
       "      <td>1</td>\n",
       "      <td>Toy Story (1995)</td>\n",
       "      <td>Adventure Animation Children Comedy Fantasy</td>\n",
       "      <td>0.0</td>\n",
       "      <td>3.872470</td>\n",
       "      <td>3.87247</td>\n",
       "      <td>3.872470</td>\n",
       "      <td>3.872470</td>\n",
       "      <td>0.0</td>\n",
       "      <td>0.0</td>\n",
       "      <td>...</td>\n",
       "      <td>0.0</td>\n",
       "      <td>0.0</td>\n",
       "      <td>0.0</td>\n",
       "      <td>0.0</td>\n",
       "      <td>0.000000</td>\n",
       "      <td>0.0</td>\n",
       "      <td>0.0</td>\n",
       "      <td>0.0</td>\n",
       "      <td>0.0</td>\n",
       "      <td>3.872470</td>\n",
       "    </tr>\n",
       "    <tr>\n",
       "      <th>1</th>\n",
       "      <td>2</td>\n",
       "      <td>Jumanji (1995)</td>\n",
       "      <td>Adventure Children Fantasy</td>\n",
       "      <td>0.0</td>\n",
       "      <td>3.401869</td>\n",
       "      <td>0.00000</td>\n",
       "      <td>3.401869</td>\n",
       "      <td>0.000000</td>\n",
       "      <td>0.0</td>\n",
       "      <td>0.0</td>\n",
       "      <td>...</td>\n",
       "      <td>0.0</td>\n",
       "      <td>0.0</td>\n",
       "      <td>0.0</td>\n",
       "      <td>0.0</td>\n",
       "      <td>0.000000</td>\n",
       "      <td>0.0</td>\n",
       "      <td>0.0</td>\n",
       "      <td>0.0</td>\n",
       "      <td>0.0</td>\n",
       "      <td>3.401869</td>\n",
       "    </tr>\n",
       "    <tr>\n",
       "      <th>2</th>\n",
       "      <td>3</td>\n",
       "      <td>Grumpier Old Men (1995)</td>\n",
       "      <td>Comedy Romance</td>\n",
       "      <td>0.0</td>\n",
       "      <td>0.000000</td>\n",
       "      <td>0.00000</td>\n",
       "      <td>0.000000</td>\n",
       "      <td>3.161017</td>\n",
       "      <td>0.0</td>\n",
       "      <td>0.0</td>\n",
       "      <td>...</td>\n",
       "      <td>0.0</td>\n",
       "      <td>0.0</td>\n",
       "      <td>0.0</td>\n",
       "      <td>0.0</td>\n",
       "      <td>3.161017</td>\n",
       "      <td>0.0</td>\n",
       "      <td>0.0</td>\n",
       "      <td>0.0</td>\n",
       "      <td>0.0</td>\n",
       "      <td>3.161017</td>\n",
       "    </tr>\n",
       "    <tr>\n",
       "      <th>3</th>\n",
       "      <td>4</td>\n",
       "      <td>Waiting to Exhale (1995)</td>\n",
       "      <td>Comedy Drama Romance</td>\n",
       "      <td>0.0</td>\n",
       "      <td>0.000000</td>\n",
       "      <td>0.00000</td>\n",
       "      <td>0.000000</td>\n",
       "      <td>2.384615</td>\n",
       "      <td>0.0</td>\n",
       "      <td>0.0</td>\n",
       "      <td>...</td>\n",
       "      <td>0.0</td>\n",
       "      <td>0.0</td>\n",
       "      <td>0.0</td>\n",
       "      <td>0.0</td>\n",
       "      <td>2.384615</td>\n",
       "      <td>0.0</td>\n",
       "      <td>0.0</td>\n",
       "      <td>0.0</td>\n",
       "      <td>0.0</td>\n",
       "      <td>2.384615</td>\n",
       "    </tr>\n",
       "    <tr>\n",
       "      <th>4</th>\n",
       "      <td>5</td>\n",
       "      <td>Father of the Bride Part II (1995)</td>\n",
       "      <td>Comedy</td>\n",
       "      <td>0.0</td>\n",
       "      <td>0.000000</td>\n",
       "      <td>0.00000</td>\n",
       "      <td>0.000000</td>\n",
       "      <td>3.267857</td>\n",
       "      <td>0.0</td>\n",
       "      <td>0.0</td>\n",
       "      <td>...</td>\n",
       "      <td>0.0</td>\n",
       "      <td>0.0</td>\n",
       "      <td>0.0</td>\n",
       "      <td>0.0</td>\n",
       "      <td>0.000000</td>\n",
       "      <td>0.0</td>\n",
       "      <td>0.0</td>\n",
       "      <td>0.0</td>\n",
       "      <td>0.0</td>\n",
       "      <td>3.267857</td>\n",
       "    </tr>\n",
       "  </tbody>\n",
       "</table>\n",
       "<p>5 rows × 23 columns</p>\n",
       "</div>"
      ],
      "text/plain": [
       "   movieId                               title  \\\n",
       "0        1                    Toy Story (1995)   \n",
       "1        2                      Jumanji (1995)   \n",
       "2        3             Grumpier Old Men (1995)   \n",
       "3        4            Waiting to Exhale (1995)   \n",
       "4        5  Father of the Bride Part II (1995)   \n",
       "\n",
       "                                        genres  action  adventure  animation  \\\n",
       "0  Adventure Animation Children Comedy Fantasy     0.0   3.872470    3.87247   \n",
       "1                   Adventure Children Fantasy     0.0   3.401869    0.00000   \n",
       "2                               Comedy Romance     0.0   0.000000    0.00000   \n",
       "3                         Comedy Drama Romance     0.0   0.000000    0.00000   \n",
       "4                                       Comedy     0.0   0.000000    0.00000   \n",
       "\n",
       "   children    comedy  crime  documentary    ...     imax  musical  mystery  \\\n",
       "0  3.872470  3.872470    0.0          0.0    ...      0.0      0.0      0.0   \n",
       "1  3.401869  0.000000    0.0          0.0    ...      0.0      0.0      0.0   \n",
       "2  0.000000  3.161017    0.0          0.0    ...      0.0      0.0      0.0   \n",
       "3  0.000000  2.384615    0.0          0.0    ...      0.0      0.0      0.0   \n",
       "4  0.000000  3.267857    0.0          0.0    ...      0.0      0.0      0.0   \n",
       "\n",
       "   noir   romance  scifi  thriller  war  western    rating  \n",
       "0   0.0  0.000000    0.0       0.0  0.0      0.0  3.872470  \n",
       "1   0.0  0.000000    0.0       0.0  0.0      0.0  3.401869  \n",
       "2   0.0  3.161017    0.0       0.0  0.0      0.0  3.161017  \n",
       "3   0.0  2.384615    0.0       0.0  0.0      0.0  2.384615  \n",
       "4   0.0  0.000000    0.0       0.0  0.0      0.0  3.267857  \n",
       "\n",
       "[5 rows x 23 columns]"
      ]
     },
     "execution_count": 85,
     "metadata": {},
     "output_type": "execute_result"
    }
   ],
   "source": [
    "merged_data.head()"
   ]
  },
  {
   "cell_type": "code",
   "execution_count": 98,
   "metadata": {},
   "outputs": [
    {
     "name": "stdout",
     "output_type": "stream",
     "text": [
      "705     Supercop 2 (Project S) (Chao ji ji hua) (1993)\n",
      "2913                                      Lured (1947)\n",
      "3155                                 Get Carter (1971)\n",
      "3523                              Above the Law (1988)\n",
      "3833                              Enforcer, The (1976)\n",
      "Name: title, dtype: object\n"
     ]
    }
   ],
   "source": [
    "reco = merged_data.nlargest(5, 'crime')\n",
    "print(reco['title'])"
   ]
  }
 ],
 "metadata": {
  "kernelspec": {
   "display_name": "Python 3",
   "language": "python",
   "name": "python3"
  },
  "language_info": {
   "codemirror_mode": {
    "name": "ipython",
    "version": 3
   },
   "file_extension": ".py",
   "mimetype": "text/x-python",
   "name": "python",
   "nbconvert_exporter": "python",
   "pygments_lexer": "ipython3",
   "version": "3.6.3"
  }
 },
 "nbformat": 4,
 "nbformat_minor": 2
}
